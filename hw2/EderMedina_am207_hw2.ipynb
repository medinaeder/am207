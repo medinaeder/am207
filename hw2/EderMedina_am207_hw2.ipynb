{
 "cells": [
  {
   "cell_type": "markdown",
   "metadata": {},
   "source": [
    "# Eder Medina\n",
    "## Homework 2\n",
    "\n",
    "### APMTH 207: Stochastic Methods for Data Analysis, Inference and Optimization\n"
   ]
  },
  {
   "cell_type": "markdown",
   "metadata": {},
   "source": [
    "## Problem 1: Monte Carlo Integration\n",
    "\n",
    "Let $X$ be a random variable with distribution described by the following pdf:\n",
    "\n",
    "$$\n",
    "f_X(x) = \\begin{cases}\n",
    "\\frac{1}{12}(x-1), &1\\leq x\\leq 3\\\\\n",
    "-\\frac{1}{12}(x-5), &3< x\\leq 5\\\\\n",
    "\\frac{1}{6}(x-5), &5< x\\leq 7\\\\\n",
    "-\\frac{1}{6}(x-9), &7< x\\leq 9\\\\\n",
    "0, &otherwise\n",
    "\\end{cases}\n",
    "$$\n",
    "\n",
    "Let $h$ be the following function of $X$:\n",
    "\n",
    "$$\n",
    "h(X) = \\frac{1}{3\\sqrt{2}\\pi}\\mathrm{exp}\\left\\{ -\\frac{1}{18}\\left( X - 5\\right)^2\\right\\}\n",
    "$$\n",
    "\n",
    "Compute $\\mathbb{E}[h(X)]$ via Monte Carlo simulation using the following sampling methods:\n",
    "- inverse transform sampling\n",
    "- rejection sampling with both uniform proposal distribution and normal proposal distribution (steroids) (with appropriately chosen parameters)\n",
    "- importance sampling with both uniform proposal distribution and normal proposal distribution (with appropriately chosen parameters)"
   ]
  },
  {
   "cell_type": "code",
   "execution_count": 11,
   "metadata": {
    "collapsed": false
   },
   "outputs": [],
   "source": [
    "%matplotlib inline\n",
    "\n",
    "import numpy as np\n",
    "import scipy as sp\n",
    "import matplotlib as mpl\n",
    "import matplotlib.cm as cm\n",
    "import matplotlib.pyplot as plt\n",
    "import pandas as pd\n",
    "import time\n",
    "pd.set_option('display.width', 500)\n",
    "pd.set_option('display.max_columns', 100)\n",
    "pd.set_option('display.notebook_repr_html', True)\n",
    "import seaborn as sns\n",
    "sns.set_style(\"whitegrid\")\n",
    "sns.set_context(\"poster\")"
   ]
  },
  {
   "cell_type": "code",
   "execution_count": 9,
   "metadata": {
    "collapsed": false
   },
   "outputs": [],
   "source": [
    "# PDF \n",
    "def  fx(x):\n",
    "    if (x >= 1 and x <= 3):\n",
    "        return 1./12*(x-1)\n",
    "    elif(x > 3 and x <= 5):\n",
    "        return -1./12*(x-5)\n",
    "    elif(x > 5 and x <= 7):\n",
    "        return 1/6*(x-5)\n",
    "    elif(x > 7 and x <= 9):\n",
    "        return -1./6*(x-9)\n",
    "    else:\n",
    "        return 0\n",
    "\n",
    "# Function we are trying to estimate\n",
    "def h(x):\n",
    "    return 1.0/(3*np.sqrt(2)*np.pi)*np.exp(-1/18*(x-5)**2)\n",
    "\n"
   ]
  },
  {
   "cell_type": "markdown",
   "metadata": {},
   "source": [
    "### Inverse Transform ###\n",
    "We compute the CDF by integrating the PDF\n",
    "$$\n",
    "F_X(x) = \\begin{cases}\n",
    "0 , &x < 1 \\\\\n",
    "\\frac{1}{12}(\\frac{x^2}{2}-x)+\\frac{1}{24}, &1\\leq x\\leq 3\\\\\n",
    "-\\frac{1}{12}(\\frac{x^2}{2}-5x)-\\frac{17}{24}, &3< x\\leq 5\\\\\n",
    "\\frac{1}{6}(\\frac{x^2}{2}-5x)+\\frac{29}{12}, &5< x\\leq 7\\\\\n",
    "-\\frac{1}{6}(\\frac{x^2}{2}-9x)-5.75, &7< x\\leq 9\\\\\n",
    "1 &x >9\n",
    "\\end{cases}\n",
    "$$\n",
    "\n",
    "We can compute the inverse cdf for each interval. For example, for the first interval we know that the $P(x<3)= 1/6$ then for values of $ r < 1/6$, where $r$ is defined by $P(x<X)= r$, we can compute the inverse transform by a quadratic equation\n",
    "\\begin{align}\n",
    "r & = \\frac{1}{12}(\\frac{x^2}{2}-x)+\\frac{1}{24}\\\\\n",
    "& \\frac{1}{12}(\\frac{x^2}{2}-x)+\\frac{1}{24} -r = 0 \\\\\n",
    "x & = 1+\\sqrt{1-4(\\frac{1}{2})(\\frac{1}{2}-12r)}\n",
    "\\end{align}\n",
    "\n",
    "We then repeat this calculation for the other intervals."
   ]
  },
  {
   "cell_type": "code",
   "execution_count": 107,
   "metadata": {
    "collapsed": false
   },
   "outputs": [],
   "source": [
    "# Define the CDF\n",
    "def CDF(x):\n",
    "    if (x >= 1 and x <= 3):\n",
    "        return 1./12*(0.5*x*x-x)+1./24\n",
    "    elif(x > 3 and x <= 5):\n",
    "        return -1./12*(0.5*x*x-5*x)-17./24\n",
    "    elif(x > 5 and x <= 7):\n",
    "        return 1/6*(0.5*x*x-5*x)+29./12\n",
    "    elif(x > 7 and x <= 9):\n",
    "        return -1./6*(0.5*x*x-9*x)-5.75\n",
    "    else:\n",
    "        return 0\n",
    "\n",
    "# Invert the CDF \n",
    "def invCDF(r):\n",
    "    if (r<=1.0/6):\n",
    "        return 1+np.sqrt(1-4*(1/2-12*r)*0.5)\n",
    "    elif (r > 1.0/6 and r<= 1.0/3):\n",
    "        return 5-np.sqrt(25-4*(17/2+12*r)*0.5)\n",
    "    elif (r > 1.0/3 and r<= 2.0/3):\n",
    "        return 5+np.sqrt(25-4*(29/2-6*r)*0.5)\n",
    "    elif (r > 2.0/3 and r <= 1):\n",
    "        return 9-np.sqrt(81-4*(6*5.75+6*r)*0.5)\n"
   ]
  },
  {
   "cell_type": "markdown",
   "metadata": {},
   "source": [
    "We are then able to find\n",
    "\\begin{equation}\n",
    "E(h(X)) = \\frac{1}{N} \\sum \\limits_{x_i}^N h(x)\n",
    "\\end{equation}"
   ]
  },
  {
   "cell_type": "markdown",
   "metadata": {},
   "source": [
    "## Problem 2: Variance Reduction\n",
    "\n",
    "### Part A\n",
    "\n",
    "Compute the variance of each estimate of $\\mathbb{E}[h(X)]$ obtained in Problem 1. Based on the discussion on sampling methods in lecture, which sampling methods, proposal distributions is expected, in principle, to resulted in lower variances? How well do your results align with these expectations?\n",
    "\n",
    "### Part B (Stratified Sampling)\n",
    "\n",
    "Often, a complex integral can be computed with more ease if one can break up the domain of the integral into pieces and if on each piece of the domain the integral is simplified. \n",
    "\n",
    "- Find a natural way to divide the domain of $X$ and express $\\mathbb{E}[h(X)]$ as an ***correctly*** weighted sum of integrals over the pieces of the domain of $X$. (This constitutes the essentials of Stratified Sampling)\n",
    "\n",
    "- Estimate each integral in the summand using rejection sampling using a normal proposal distribution (with sensibly chosen parameters). From these, estimate $\\mathbb{E}[h(X)]$.\n",
    "\n",
    "- Compute the variance of your estimate of $\\mathbb{E}[h(X)]$. Compare with the variance of your previous estimate of $\\mathbb{E}[h(X)]$ (in Part A, using rejection sampling, a normal proposal distribution over the entire domain of $X$).\n",
    "\n",
    "Read more about Stratified Sampling:\n",
    "\n",
    "1. [Variance Reduction Techniques Slides](http://www.sta.nus.edu.sg/~zhangjt/teaching/ST4231/lectures/chapter4.pdf)\n",
    "\n",
    "2. [Monte Carlo Methods](http://www.public.iastate.edu/~mervyn/stat580/Notes/s09mc.pdf)\n",
    "\n",
    "3. [Variance Reduction Techniques Chapter](http://sas.uwaterloo.ca/~dlmcleis/s906/chapt4.pdf)"
   ]
  },
  {
   "cell_type": "code",
   "execution_count": null,
   "metadata": {
    "collapsed": true
   },
   "outputs": [],
   "source": []
  }
 ],
 "metadata": {
  "anaconda-cloud": {},
  "kernelspec": {
   "display_name": "Python [conda root]",
   "language": "python",
   "name": "conda-root-py"
  },
  "language_info": {
   "codemirror_mode": {
    "name": "ipython",
    "version": 3
   },
   "file_extension": ".py",
   "mimetype": "text/x-python",
   "name": "python",
   "nbconvert_exporter": "python",
   "pygments_lexer": "ipython3",
   "version": "3.5.2"
  }
 },
 "nbformat": 4,
 "nbformat_minor": 1
}
